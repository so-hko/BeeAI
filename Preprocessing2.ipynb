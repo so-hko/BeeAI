{
  "nbformat": 4,
  "nbformat_minor": 0,
  "metadata": {
    "colab": {
      "name": "Preprocessing2.ipynb",
      "provenance": [],
      "collapsed_sections": [],
      "toc_visible": true,
      "authorship_tag": "ABX9TyNzTV2cZucN5Knmv4s5UleY",
      "include_colab_link": true
    },
    "kernelspec": {
      "name": "python3",
      "display_name": "Python 3"
    }
  },
  "cells": [
    {
      "cell_type": "markdown",
      "metadata": {
        "id": "view-in-github",
        "colab_type": "text"
      },
      "source": [
        "<a href=\"https://colab.research.google.com/github/so-hko/BeeAI/blob/master/Preprocessing2.ipynb\" target=\"_parent\"><img src=\"https://colab.research.google.com/assets/colab-badge.svg\" alt=\"Open In Colab\"/></a>"
      ]
    },
    {
      "cell_type": "code",
      "metadata": {
        "id": "o7uKQif2FCaO",
        "outputId": "cc5ebd26-c885-42ef-d9b4-4a877cbdb615",
        "colab": {
          "base_uri": "https://localhost:8080/",
          "height": 526
        }
      },
      "source": [
        "import pandas as pd\n",
        "import numpy as np\n",
        "from random import *\n",
        "from sklearn.model_selection import train_test_split\n",
        "import sklearn\n",
        "\n",
        "data = pd.read_csv(\"/content/Falults.csv\")\n",
        "is_Pastry = data['Pastry'] == 1\n",
        "Pastry = data[is_Pastry]\n",
        "Pastry80, Pastry20 = train_test_split(Pastry, test_size=0.2, shuffle=True, random_state=1004)\n",
        "\n",
        "is_Z_Scratch = data['Z_Scratch'] == 1\n",
        "Z_Scratch = data[is_Z_Scratch]\n",
        "Z_Scratch80, Z_Scratch20 = train_test_split(Z_Scratch, test_size=0.2, shuffle=True, random_state=1004)\n",
        "\n",
        "is_K_Scratch = data['K_Scatch'] == 1\n",
        "K_Scratch = data[is_K_Scratch]\n",
        "K_Scratch80, K_Scratch20 = train_test_split(K_Scratch, test_size=0.2, shuffle=True, random_state=1004)\n",
        "\n",
        "is_Stains = data['Stains'] == 1\n",
        "Stains = data[is_Stains]\n",
        "Stains80, Stains20 = train_test_split(Stains, test_size=0.2, shuffle=True, random_state=1004)\n",
        "\n",
        "is_Dirtiness = data['Dirtiness'] == 1\n",
        "Dirtiness = data[is_Dirtiness]\n",
        "Dirtiness80, Dirtiness20 = train_test_split(Dirtiness, test_size=0.2, shuffle=True, random_state=1004)\n",
        "\n",
        "is_Bumps = data['Bumps'] == 1\n",
        "Bumps = data[is_Bumps]\n",
        "Bumps80, Bumps20 = train_test_split(Bumps, test_size=0.2, shuffle=True, random_state=1004)\n",
        "\n",
        "is_Other_Faults = data['Other_Faults'] == 1\n",
        "Other_Faults = data[is_Other_Faults]\n",
        "Other_Faults80, Other_Faults20 = train_test_split(Other_Faults, test_size=0.2, shuffle=True, random_state=1004)\n",
        "\n",
        "train80 = pd.concat([Pastry80,K_Scratch80, Z_Scratch80, Stains80, Dirtiness80, Bumps80, Other_Faults80])\n",
        "train80_shuffled=sklearn.utils.shuffle(train80)\n",
        "train80_shuffled.to_csv('./train80_shuffled.csv')\n",
        "print(train80)\n",
        "\n",
        "train20 = pd.concat([Pastry20,K_Scratch20, Z_Scratch20, Stains20, Dirtiness20, Bumps20, Other_Faults20])\n",
        "train20_shuffled.to_csv('./train20_shuffled.csv')\n",
        "print(train20)"
      ],
      "execution_count": 65,
      "outputs": [
        {
          "output_type": "stream",
          "text": [
            "      X_Minimum  X_Maximum  Y_Minimum  ...  Dirtiness  Bumps  Other_Faults\n",
            "40         1152       1162     284144  ...          0      0             0\n",
            "119        1568       1583     564536  ...          0      0             0\n",
            "15          669        684     491552  ...          0      0             0\n",
            "132        1643       1656    1809470  ...          0      0             0\n",
            "3           853        860     369370  ...          0      0             0\n",
            "...         ...        ...        ...  ...        ...    ...           ...\n",
            "1507       1230       1244      86773  ...          0      0             1\n",
            "1593       1269       1290     340471  ...          0      0             1\n",
            "1299          6         17     402394  ...          0      0             1\n",
            "1791        209        259    9649727  ...          0      0             1\n",
            "1270       1269       1296     374730  ...          0      0             1\n",
            "\n",
            "[1550 rows x 34 columns]\n",
            "      X_Minimum  X_Maximum  Y_Minimum  ...  Dirtiness  Bumps  Other_Faults\n",
            "76          375        384     519677  ...          0      0             0\n",
            "5           430        441     100250  ...          0      0             0\n",
            "131        1470       1488    1771553  ...          0      0             0\n",
            "82         1327       1335     126951  ...          0      0             0\n",
            "17           90        104     751059  ...          0      0             0\n",
            "...         ...        ...        ...  ...        ...    ...           ...\n",
            "1885       1669       1679     456531  ...          0      0             1\n",
            "1915        856        871     531684  ...          0      0             1\n",
            "1428       1068       1083    1539081  ...          0      0             1\n",
            "1355        545        583     425925  ...          0      0             1\n",
            "1605       1117       1154    1194359  ...          0      0             1\n",
            "\n",
            "[391 rows x 34 columns]\n"
          ],
          "name": "stdout"
        }
      ]
    },
    {
      "cell_type": "code",
      "metadata": {
        "id": "Y1OVkceVFai1",
        "outputId": "148c2b2b-bd70-407b-e5c4-a075501e174b",
        "colab": {
          "base_uri": "https://localhost:8080/",
          "height": 526
        }
      },
      "source": [
        ""
      ],
      "execution_count": 49,
      "outputs": [
        {
          "output_type": "stream",
          "text": [
            "     X_Minimum  X_Maximum  Y_Minimum  ...  Dirtiness  Bumps  Other_Faults\n",
            "0           42         50     270900  ...          0      0             0\n",
            "1          645        651    2538079  ...          0      0             0\n",
            "2          829        835    1553913  ...          0      0             0\n",
            "3          853        860     369370  ...          0      0             0\n",
            "4         1289       1306     498078  ...          0      0             0\n",
            "..         ...        ...        ...  ...        ...    ...           ...\n",
            "153         16         26    1377748  ...          0      0             0\n",
            "154         14         23    1461247  ...          0      0             0\n",
            "155         13         21    1488612  ...          0      0             0\n",
            "156         15         24    1620686  ...          0      0             0\n",
            "157         17         26    1651888  ...          0      0             0\n",
            "\n",
            "[158 rows x 34 columns]\n",
            "     X_Minimum  X_Maximum  Y_Minimum  ...  Dirtiness  Bumps  Other_Faults\n",
            "158       1166       1185    2258648  ...          0      0             0\n",
            "159          7         19      21512  ...          0      0             0\n",
            "160         37         53      50442  ...          0      0             0\n",
            "161         39         51      66522  ...          0      0             0\n",
            "162        193        205      82308  ...          0      0             0\n",
            "..         ...        ...        ...  ...        ...    ...           ...\n",
            "343       1191       1201    1062881  ...          0      0             0\n",
            "344       1202       1215    1127580  ...          0      0             0\n",
            "345       1109       1118    1170194  ...          0      0             0\n",
            "346       1190       1219    1183612  ...          0      0             0\n",
            "347       1198       1209    1246188  ...          0      0             0\n",
            "\n",
            "[190 rows x 34 columns]\n"
          ],
          "name": "stdout"
        }
      ]
    },
    {
      "cell_type": "code",
      "metadata": {
        "id": "ef_CC0NwKy8c"
      },
      "source": [
        "\"\"\"\n",
        "for i in range(row):\n",
        "  if data.loc[row:row,[data.columns[27]]] == 1:\n",
        "    Pastry.append(data.loc[i],ignore_index = True)\n",
        "\"\"\"\n",
        "\n",
        "\"\"\"\n",
        "for i in range(row+1):\n",
        "  #random1 = randint(1,1941)\n",
        "  #print(data.loc[[random1]])\n",
        "  data = data.append(data.loc[[i]], ignore_index = True)\n",
        "  row = row + 1\n",
        "  random2 = randint(0,26)\n",
        "  data.loc[row:row,[data.columns[random2]]] = np.nan\n",
        "\n",
        "data_shuffled=sklearn.utils.shuffle(data)\n",
        "data_shuffled.to_csv('./test20_shuffled.csv')\n",
        "data.to_csv('./result_test20.csv')\n",
        "\"\"\""
      ],
      "execution_count": null,
      "outputs": []
    }
  ]
}